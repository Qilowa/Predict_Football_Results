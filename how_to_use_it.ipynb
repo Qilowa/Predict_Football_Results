{
 "cells": [
  {
   "cell_type": "code",
   "execution_count": 13,
   "metadata": {},
   "outputs": [
    {
     "name": "stdout",
     "output_type": "stream",
     "text": [
      "927 610 463\n",
      "Ath Madrid has 46.35 % chance of winning\n",
      "There is 30.5 % chance of draw\n",
      "Ath Bilbao has 23.150000000000002 % chance of winning\n"
     ]
    }
   ],
   "source": [
    "# Import the model\n",
    "from model import Model\n",
    "\n",
    "# Create the model\n",
    "my_model = Model(\"data/Liga/SP1_2020.csv\", 2000)\n",
    "\n",
    "# Make prediction\n",
    "h, d, a = my_model.get_probability(\"Ath Madrid\", \"Ath Bilbao\")\n",
    "\n",
    "print(f\"Ath Madrid has {h * 100} % chance of winning\")\n",
    "print(f\"There is {d * 100} % chance of draw\")\n",
    "print(f\"Ath Bilbao has {a * 100} % chance of winning\")"
   ]
  }
 ],
 "metadata": {
  "kernelspec": {
   "display_name": "Python 3",
   "language": "python",
   "name": "python3"
  },
  "language_info": {
   "codemirror_mode": {
    "name": "ipython",
    "version": 3
   },
   "file_extension": ".py",
   "mimetype": "text/x-python",
   "name": "python",
   "nbconvert_exporter": "python",
   "pygments_lexer": "ipython3",
   "version": "3.7.4"
  }
 },
 "nbformat": 4,
 "nbformat_minor": 2
}
